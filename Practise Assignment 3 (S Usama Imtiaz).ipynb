{
 "cells": [
  {
   "cell_type": "markdown",
   "metadata": {},
   "source": [
    "# Q1:"
   ]
  },
  {
   "cell_type": "markdown",
   "metadata": {},
   "source": [
    "Think of at least three kinds of your favorite pizza. Store these pizza names in a list, and then use a for loop to print the name of each pizza."
   ]
  },
  {
   "cell_type": "code",
   "execution_count": 2,
   "metadata": {},
   "outputs": [
    {
     "name": "stdout",
     "output_type": "stream",
     "text": [
      "Chicken Tikka\n",
      "Creamy Cheez\n",
      "Behari\n"
     ]
    }
   ],
   "source": [
    "pizzas = ['Chicken Tikka' , 'Creamy Cheez' , 'Behari']\n",
    "for pizza in pizzas:\n",
    "    print(pizza)"
   ]
  },
  {
   "cell_type": "markdown",
   "metadata": {},
   "source": [
    "# Q2"
   ]
  },
  {
   "cell_type": "markdown",
   "metadata": {},
   "source": [
    "Start with your last question , Modify your for loop to print a sentence using the name of the pizza\n",
    "instead of printing just the name of the pizza. For each pizza you should\n",
    "have one line of output containing a simple statement like I like pepperoni\n",
    "pizza."
   ]
  },
  {
   "cell_type": "code",
   "execution_count": null,
   "metadata": {},
   "outputs": [],
   "source": [
    "pizza = ['Tandori' , 'Creamy Cheez', 'Afgani']\n"
   ]
  },
  {
   "cell_type": "markdown",
   "metadata": {},
   "source": [
    "# Q3:"
   ]
  },
  {
   "cell_type": "markdown",
   "metadata": {},
   "source": [
    "Use a for loop to print the numbers from 1 to 20,\n",
    "inclusive."
   ]
  },
  {
   "cell_type": "code",
   "execution_count": 3,
   "metadata": {},
   "outputs": [
    {
     "name": "stdout",
     "output_type": "stream",
     "text": [
      "1\n",
      "2\n",
      "3\n",
      "4\n",
      "5\n",
      "6\n",
      "7\n",
      "8\n",
      "9\n",
      "10\n",
      "11\n",
      "12\n",
      "13\n",
      "14\n",
      "15\n",
      "16\n",
      "17\n",
      "18\n",
      "19\n",
      "20\n"
     ]
    }
   ],
   "source": [
    "for num in range(1, 21):\n",
    "    print(num)"
   ]
  },
  {
   "cell_type": "markdown",
   "metadata": {},
   "source": [
    "# Q4:"
   ]
  },
  {
   "cell_type": "markdown",
   "metadata": {},
   "source": [
    "Use the third argument of the range() function to make a list\n",
    "of the odd numbers from 1 to 20. Use a for loop to print each number."
   ]
  },
  {
   "cell_type": "code",
   "execution_count": 6,
   "metadata": {},
   "outputs": [
    {
     "name": "stdout",
     "output_type": "stream",
     "text": [
      "1\n",
      "3\n",
      "5\n",
      "7\n",
      "9\n",
      "11\n",
      "13\n",
      "15\n",
      "17\n",
      "19\n"
     ]
    }
   ],
   "source": [
    "for number in range(1, 21 ,2):\n",
    "    print(number)"
   ]
  },
  {
   "cell_type": "markdown",
   "metadata": {},
   "source": [
    "# Q5:"
   ]
  },
  {
   "cell_type": "markdown",
   "metadata": {},
   "source": [
    "Make a list of the multiples of 3 from 3 to 30. Use a for loop to\n",
    "print the numbers in your list."
   ]
  },
  {
   "cell_type": "code",
   "execution_count": 7,
   "metadata": {},
   "outputs": [
    {
     "name": "stdout",
     "output_type": "stream",
     "text": [
      "3\n",
      "6\n",
      "9\n",
      "12\n",
      "15\n",
      "18\n",
      "21\n",
      "24\n",
      "27\n"
     ]
    }
   ],
   "source": [
    "for third in range (3 , 30 , 3):\n",
    "    print(third)"
   ]
  },
  {
   "cell_type": "markdown",
   "metadata": {},
   "source": [
    "# Q6:"
   ]
  },
  {
   "cell_type": "markdown",
   "metadata": {},
   "source": [
    "A number raised to the third power is called a cube. For example,\n",
    "the cube of 2 is written as 2**3 in Python. Make a list of the first 10 cubes (that\n",
    "is, the cube of each integer from 1 through 10), and use a for loop to print out\n",
    "the value of each cube"
   ]
  },
  {
   "cell_type": "code",
   "execution_count": 13,
   "metadata": {},
   "outputs": [
    {
     "name": "stdout",
     "output_type": "stream",
     "text": [
      "1\n",
      "8\n",
      "27\n",
      "64\n",
      "125\n",
      "216\n",
      "343\n",
      "512\n",
      "729\n",
      "1000\n"
     ]
    }
   ],
   "source": [
    "cube = [integer ** 3 for integer in range (1, 11)]\n",
    "\n",
    "for cubes in cube:\n",
    "    print(cubes)"
   ]
  },
  {
   "cell_type": "code",
   "execution_count": null,
   "metadata": {},
   "outputs": [],
   "source": []
  },
  {
   "cell_type": "markdown",
   "metadata": {},
   "source": [
    "# Q7:"
   ]
  },
  {
   "cell_type": "markdown",
   "metadata": {},
   "source": [
    "###### Make a python program that conatains your nine favourite dishes in a list called foods.\n",
    "\n",
    "###### Print the message, The first three items in the list are:. \n",
    "###### Then use a slice to print the first three items from that program’s list.\n",
    "\n",
    "###### Print the message, Three items from the middle of the list are:\n",
    "###### Use a slice to print three items from the middle of the list.\n",
    "\n",
    "###### Print the message, The last three items in the list are:\n",
    "###### Use a slice to print the last three items in the list."
   ]
  },
  {
   "cell_type": "code",
   "execution_count": 1,
   "metadata": {},
   "outputs": [],
   "source": [
    "food = ['chicken Karhi' , 'biryani' , 'pilao' , 'achar ghost' , 'daal' , 'nahari' , 'haleem' , 'qorma' , 'BBQ'] \n"
   ]
  },
  {
   "cell_type": "code",
   "execution_count": 4,
   "metadata": {},
   "outputs": [
    {
     "data": {
      "text/plain": [
       "['chicken Karhi', 'biryani', 'pilao']"
      ]
     },
     "execution_count": 4,
     "metadata": {},
     "output_type": "execute_result"
    }
   ],
   "source": [
    "food1 = food[0:3]\n",
    "food1"
   ]
  },
  {
   "cell_type": "code",
   "execution_count": 6,
   "metadata": {},
   "outputs": [
    {
     "data": {
      "text/plain": [
       "['achar ghost', 'daal', 'nahari']"
      ]
     },
     "execution_count": 6,
     "metadata": {},
     "output_type": "execute_result"
    }
   ],
   "source": [
    "food1 = food[3:6]\n",
    "food1"
   ]
  },
  {
   "cell_type": "code",
   "execution_count": 7,
   "metadata": {},
   "outputs": [
    {
     "data": {
      "text/plain": [
       "['haleem', 'qorma', 'BBQ']"
      ]
     },
     "execution_count": 7,
     "metadata": {},
     "output_type": "execute_result"
    }
   ],
   "source": [
    "food1 = food[6:9]\n",
    "food1"
   ]
  },
  {
   "cell_type": "markdown",
   "metadata": {},
   "source": [
    "# Q8:"
   ]
  },
  {
   "cell_type": "markdown",
   "metadata": {},
   "source": [
    "### Start with your program from your last Question8.\n",
    "###### Make a copy of the list of foods, and call it friend_foods.\n",
    "###### Then, do the following:\n",
    "######    Add a new dish to the original list.\n",
    "######    Add a different dish to the list friend_foodss.\n",
    "######    Prove that you have two separate lists. \n",
    "###### Print the message, My favorite pizzas are: and then use a for loop to print the first list. \n",
    "###### Print the message,\n",
    "###### My friend’s favorite foods are:, and then use a for loop to print the second list.\n",
    "    \n",
    "##### NOTE: Make sure each new dish is stored in the appropriate list."
   ]
  },
  {
   "cell_type": "code",
   "execution_count": 31,
   "metadata": {},
   "outputs": [],
   "source": [
    "food = ['chicken Karhi' , 'biryani' , 'pilao' , 'achar ghost' , 'daal' , 'nahari' , 'haleem'  , 'BBQ' ] \n",
    "friend_foods = food.copy()\n",
    "food.append('qorma')\n",
    "friend_foods.append('paaye')\n"
   ]
  },
  {
   "cell_type": "code",
   "execution_count": 32,
   "metadata": {},
   "outputs": [
    {
     "name": "stdout",
     "output_type": "stream",
     "text": [
      "My Favorite Foods are: \n",
      "chicken Karhi\n",
      "biryani\n",
      "pilao\n",
      "achar ghost\n",
      "daal\n",
      "nahari\n",
      "haleem\n",
      "BBQ\n",
      "qorma\n"
     ]
    }
   ],
   "source": [
    "print('My Favorite Foods are: ')\n",
    "for foods in food:\n",
    "    print(foods)"
   ]
  },
  {
   "cell_type": "code",
   "execution_count": 36,
   "metadata": {
    "scrolled": true
   },
   "outputs": [
    {
     "name": "stdout",
     "output_type": "stream",
     "text": [
      "My Friends Favorite Foods are: \n",
      "chicken Karhi\n",
      "biryani\n",
      "pilao\n",
      "achar ghost\n",
      "daal\n",
      "nahari\n",
      "haleem\n",
      "BBQ\n",
      "paaye\n"
     ]
    }
   ],
   "source": [
    "print('My Friends Favorite Foods are: ')\n",
    "for foods in friend_foods:\n",
    "    print(foods)"
   ]
  },
  {
   "cell_type": "markdown",
   "metadata": {},
   "source": [
    "# Q9:"
   ]
  },
  {
   "cell_type": "markdown",
   "metadata": {},
   "source": [
    " Take a user input from console line.Store it in a variable called Alien_color.\n",
    "\n",
    "If the alien’s color is red, print a statement that the player just earned 5 points for shooting the alien.\n",
    "\n",
    "If the alien’s color isn’t green, print a statement that the player just earned 10 points.\n",
    "\n",
    "If the alien's color isn't red or green , print a statment :, Alien is no more....."
   ]
  },
  {
   "cell_type": "code",
   "execution_count": 3,
   "metadata": {},
   "outputs": [
    {
     "name": "stdout",
     "output_type": "stream",
     "text": [
      "enter the color grey\n",
      "you just earned 10 points.\n"
     ]
    }
   ],
   "source": [
    "# color only red and green\n",
    "alien_color = input('enter the color ').lower()\n",
    "if alien_color == 'red':\n",
    "    print('You just earned 5 points for shooting the alien.')\n",
    "elif alien_color != 'green':\n",
    "    print(\"you just earned 10 points.\")\n",
    "else:\n",
    "    print('Alien is no more')"
   ]
  },
  {
   "cell_type": "code",
   "execution_count": 4,
   "metadata": {},
   "outputs": [
    {
     "name": "stdout",
     "output_type": "stream",
     "text": [
      "enter the color red\n",
      "You just earned 5 points for shooting the alien.\n"
     ]
    }
   ],
   "source": [
    "alien_color = input('enter the color ').lower()\n",
    "if alien_color == 'red':\n",
    "    print('You just earned 5 points for shooting the alien.')\n",
    "elif alien_color == 'green':\n",
    "    print(\"you just earned 10 points.\")\n",
    "else:\n",
    "    print('Alien is no more')"
   ]
  },
  {
   "cell_type": "code",
   "execution_count": null,
   "metadata": {},
   "outputs": [],
   "source": []
  },
  {
   "cell_type": "code",
   "execution_count": null,
   "metadata": {},
   "outputs": [],
   "source": []
  },
  {
   "cell_type": "markdown",
   "metadata": {},
   "source": [
    "# Q10:"
   ]
  },
  {
   "cell_type": "markdown",
   "metadata": {},
   "source": [
    "Write an if-elif-else chain that determines a person’s\n",
    "stage of life. Set a value for the variable age, and then:\n",
    "    \n",
    "•\t If the person is less than 2 years old, print a message that the person is a baby.\n",
    "\n",
    "•\t If the person is at least 2 years old but less than 4, print a message that the person is a toddler.\n",
    "\n",
    "•\t If the person is at least 4 years old but less than 13, print a message that the person is a kid.\n",
    "\n",
    "•\t If the person is at least 13 years old but less than 20, print a message that the person is a teenager.\n",
    "\n",
    "•\t If the person is at least 20 years old but less than 65, print a message that the person is an adult.\n",
    "\n",
    "•\t If the person is age 65 or older, print a message that the person is an elder."
   ]
  },
  {
   "cell_type": "code",
   "execution_count": 5,
   "metadata": {},
   "outputs": [
    {
     "name": "stdout",
     "output_type": "stream",
     "text": [
      "Enter Your Age: 3\n",
      "You are a Toddler\n"
     ]
    }
   ],
   "source": [
    "age = int(input('Enter Your Age: '))\n",
    "if age <= 2:\n",
    "    print('You are a Baby')\n",
    "elif age <= 4:\n",
    "    print('You are a Toddler')\n",
    "elif age <= 13:\n",
    "    print('You are a Kid')\n",
    "elif age <= 20:\n",
    "    print('You are a Teenager')\n",
    "elif age <= 65:\n",
    "    print('You are an Adult')\n",
    "else:\n",
    "    print('you are an elder')"
   ]
  },
  {
   "cell_type": "code",
   "execution_count": 6,
   "metadata": {},
   "outputs": [
    {
     "name": "stdout",
     "output_type": "stream",
     "text": [
      "Enter Your Age: 18\n",
      "You are a Teenager\n"
     ]
    }
   ],
   "source": [
    "age = int(input('Enter Your Age: '))\n",
    "if age <= 2:\n",
    "    print('You are a Baby')\n",
    "elif age <= 4:\n",
    "    print('You are a Toddler')\n",
    "elif age <= 13:\n",
    "    print('You are a Kid')\n",
    "elif age <= 20:\n",
    "    print('You are a Teenager')\n",
    "elif age <= 65:\n",
    "    print('You are an Adult')\n",
    "else:\n",
    "    print('you are an elder')"
   ]
  },
  {
   "cell_type": "code",
   "execution_count": 7,
   "metadata": {},
   "outputs": [
    {
     "name": "stdout",
     "output_type": "stream",
     "text": [
      "Enter Your Age: 50\n",
      "You are an Adult\n"
     ]
    }
   ],
   "source": [
    "age = int(input('Enter Your Age: '))\n",
    "if age <= 2:\n",
    "    print('You are a Baby')\n",
    "elif age <= 4:\n",
    "    print('You are a Toddler')\n",
    "elif age <= 13:\n",
    "    print('You are a Kid')\n",
    "elif age <= 20:\n",
    "    print('You are a Teenager')\n",
    "elif age <= 65:\n",
    "    print('You are an Adult')\n",
    "else:\n",
    "    print('you are an elder')"
   ]
  },
  {
   "cell_type": "code",
   "execution_count": 8,
   "metadata": {},
   "outputs": [
    {
     "name": "stdout",
     "output_type": "stream",
     "text": [
      "Enter Your Age: 70\n",
      "you are an elder\n"
     ]
    }
   ],
   "source": [
    "age = int(input('Enter Your Age: '))\n",
    "if age <= 2:\n",
    "    print('You are a Baby')\n",
    "elif age <= 4:\n",
    "    print('You are a Toddler')\n",
    "elif age <= 13:\n",
    "    print('You are a Kid')\n",
    "elif age <= 20:\n",
    "    print('You are a Teenager')\n",
    "elif age <= 65:\n",
    "    print('You are an Adult')\n",
    "else:\n",
    "    print('you are an elder')"
   ]
  },
  {
   "cell_type": "markdown",
   "metadata": {},
   "source": [
    "# Q11:"
   ]
  },
  {
   "cell_type": "markdown",
   "metadata": {},
   "source": [
    "Do the following to create a program that simulates how websites ensure that everyone has a unique username.\n",
    "\n",
    "•\t Make a list of five or more usernames called current_users.\n",
    "\n",
    "•\t Make another list of five usernames called new_users. \n",
    "Make sure one or two of the new usernames are also in the current_users list.\n",
    "\n",
    "•\t Loop through the new_users list to see if each new username has already been used. \n",
    "If it has, print a message that the person will need to enter a new username. \n",
    "If a username has not been used, print a message saying that the username is available.\n",
    "\n",
    "•\t Make sure your comparison is case insensitive. If 'John' has been used, 'JOHN' should not be accepted."
   ]
  },
  {
   "cell_type": "code",
   "execution_count": 17,
   "metadata": {},
   "outputs": [
    {
     "name": "stdout",
     "output_type": "stream",
     "text": [
      "Haseeb  username is already used!\n",
      "\n",
      "Enter Username: shajee\n",
      "Rizwan username is available!\n",
      "Usman username is available!\n",
      "Yasir username is available!\n",
      "Hussian username is available!\n",
      "Shajee username is available!\n"
     ]
    }
   ],
   "source": [
    "current_users = [\"Haseeb\", \"Usama\", \"Salman\", \"Ghaffar\", \"Sajjad\", \"Sikindar\"]\n",
    "new_users = [\"Haseeb\", \"Shajee\", \"Rizwan\", \"Usman\", \"Yasir\", \"Hussian\"]\n",
    "\n",
    "for new_user in new_users:\n",
    "    if new_user in current_users:\n",
    "        print( new_user , \" username is already used!\\n\")\n",
    "        new_users.remove(new_user)\n",
    "        username = input(\"Enter Username: \")\n",
    "        if username.lower() == new_user.lower():\n",
    "              print(new_user , \"username is already used!\\n\")\n",
    "        else:\n",
    "            new_users.append(username.title())\n",
    "    else:\n",
    "        print(new_user , \"username is available!\")"
   ]
  },
  {
   "cell_type": "code",
   "execution_count": null,
   "metadata": {},
   "outputs": [],
   "source": []
  },
  {
   "cell_type": "code",
   "execution_count": null,
   "metadata": {},
   "outputs": [],
   "source": []
  },
  {
   "cell_type": "code",
   "execution_count": null,
   "metadata": {},
   "outputs": [],
   "source": []
  },
  {
   "cell_type": "markdown",
   "metadata": {},
   "source": [
    "# Q12:"
   ]
  },
  {
   "cell_type": "markdown",
   "metadata": {},
   "source": [
    "Use a dictionary to store information about a person you know.\n",
    "Store their first name, last name, age, and the city in which they live. \n",
    "You should have keys such as first_name, last_name, age, and city. \n",
    "Print each piece of information stored in your dictionary"
   ]
  },
  {
   "cell_type": "code",
   "execution_count": 9,
   "metadata": {},
   "outputs": [],
   "source": [
    "dic = {'first_name':'usama' , 'last_name':'imtiaz' , 'age':20 , 'city':'karachi' }"
   ]
  },
  {
   "cell_type": "code",
   "execution_count": 11,
   "metadata": {},
   "outputs": [
    {
     "name": "stdout",
     "output_type": "stream",
     "text": [
      "usama\n",
      "imtiaz\n",
      "20\n",
      "karachi\n"
     ]
    }
   ],
   "source": [
    "for val in dic.values():\n",
    "    print(val)"
   ]
  },
  {
   "cell_type": "markdown",
   "metadata": {},
   "source": [
    "# Q13:"
   ]
  },
  {
   "cell_type": "markdown",
   "metadata": {},
   "source": [
    "Starts with your last question 12 , loop through the dictionary’s keys and values.\n",
    "When you’re sure that your loop works, add five more Python terms to your\n",
    "dictionary . When you run your program again, these new words and meanings\n",
    "should automatically be included in the output."
   ]
  },
  {
   "cell_type": "code",
   "execution_count": 22,
   "metadata": {},
   "outputs": [
    {
     "name": "stdout",
     "output_type": "stream",
     "text": [
      "first_name: usama\n",
      "last_name: imtiaz\n",
      "age: 20\n",
      "city: karachi\n"
     ]
    }
   ],
   "source": [
    "dic = {'first_name':'usama' , 'last_name':'imtiaz' , 'age':'20' , 'city':'karachi' }\n",
    "\n",
    "for key , value in dic.items():\n",
    "    print(key + ': ' + value )"
   ]
  },
  {
   "cell_type": "code",
   "execution_count": 23,
   "metadata": {},
   "outputs": [
    {
     "name": "stdout",
     "output_type": "stream",
     "text": [
      "first_name: usama\n",
      "last_name: imtiaz\n",
      "age: 20\n",
      "city: karachi\n",
      "def: define\n",
      "pass: to pass\n",
      "if: any condition\n",
      "break: to stop a loop\n",
      "for: for loop\n"
     ]
    }
   ],
   "source": [
    "dic[\"def\"] = \"define\"\n",
    "dic[\"pass\"] = \"to pass\"\n",
    "dic[\"if\"] = \"any condition\"\n",
    "dic[\"break\"] = \"to stop a loop\"\n",
    "dic[\"for\"] = \"for loop\"\n",
    "\n",
    "for key, value in dic.items():\n",
    "    print(key + \": \" + value)"
   ]
  },
  {
   "cell_type": "markdown",
   "metadata": {},
   "source": [
    "# Q14:"
   ]
  },
  {
   "cell_type": "markdown",
   "metadata": {},
   "source": [
    "Make a dictionary containing three major rivers and the country\n",
    "each river runs through. One key-value pair might be 'nile': 'egypt'.\n",
    "    \n",
    "    \n",
    "•\t Use a loop to print a sentence about each river, such as The Nile runs\n",
    "through Egypt.\n",
    "\n",
    "NOTE: use upper case through keys and values."
   ]
  },
  {
   "cell_type": "code",
   "execution_count": 10,
   "metadata": {},
   "outputs": [
    {
     "name": "stdout",
     "output_type": "stream",
     "text": [
      "The Tibetan Plateau runs through Indus River.\n",
      "The Talakaveri runs through Cauveri.\n",
      "The Kashmir Valley runs through Jhelum.\n"
     ]
    }
   ],
   "source": [
    "river = {\"Tibetan Plateau\" : \"indus river\" , 'Talakaveri':'cauveri' , 'Kashmir Valley':'Jhelum'}\n",
    "\n",
    "for river, country in river.items():\n",
    "    print(\"The \" + river.title() + \" runs through \" + country.title() + \".\")"
   ]
  },
  {
   "cell_type": "markdown",
   "metadata": {},
   "source": [
    "# Q15:"
   ]
  },
  {
   "cell_type": "markdown",
   "metadata": {},
   "source": [
    "Make several dictionaries, where the name of each dictionary is the\n",
    "name of a pet. In each dictionary, include the kind of animal and the owner’s\n",
    "name. Store these dictionaries in a list called pets. Next, loop through your list\n",
    "and as you do print everything you know about each pet."
   ]
  },
  {
   "cell_type": "code",
   "execution_count": 1,
   "metadata": {},
   "outputs": [
    {
     "name": "stdout",
     "output_type": "stream",
     "text": [
      "kind: Mammal\n",
      "owner_name: Jhon\n",
      "kind: Mammal\n",
      "owner_name: Maxx\n",
      "kind: bird\n",
      "owner_name: helda\n"
     ]
    }
   ],
   "source": [
    "dog = {'kind':'Mammal' , 'owner_name':'Jhon'}\n",
    "\n",
    "horse = {'kind':'Mammal' , 'owner_name':'Maxx'}\n",
    "\n",
    "parrot = {'kind':'bird' , 'owner_name':'helda'}\n",
    "\n",
    "pets =[dog , horse , parrot]\n",
    "\n",
    "for pet in pets:\n",
    "    for key, value in pet.items():\n",
    "        print(key + \": \" + value)"
   ]
  }
 ],
 "metadata": {
  "kernelspec": {
   "display_name": "Python 3",
   "language": "python",
   "name": "python3"
  },
  "language_info": {
   "codemirror_mode": {
    "name": "ipython",
    "version": 3
   },
   "file_extension": ".py",
   "mimetype": "text/x-python",
   "name": "python",
   "nbconvert_exporter": "python",
   "pygments_lexer": "ipython3",
   "version": "3.7.3"
  }
 },
 "nbformat": 4,
 "nbformat_minor": 2
}
